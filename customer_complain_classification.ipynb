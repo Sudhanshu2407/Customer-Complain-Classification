{
 "cells": [
  {
   "cell_type": "markdown",
   "id": "afbe6f59-f0b0-468d-a7a6-6c0f19f6b8a0",
   "metadata": {},
   "source": [
    "#### --------------------------------------------------------------------------------------------\n",
    "### Description of the project.\n",
    "\n",
    "##### As in this project, we have to classify the customer complains into different classes on the basis of complain content.\n",
    "\n",
    "##### By doing this, we can handle the problems easily and customer satisfaction increases.\n",
    "\n",
    "#### ---------------------------------------------------------------------------------------------"
   ]
  },
  {
   "cell_type": "code",
   "execution_count": 1,
   "id": "c72d1e83-77a0-4add-83b9-0cad315a96a6",
   "metadata": {},
   "outputs": [],
   "source": [
    "#Here we import the all important libraries.\n",
    "\n",
    "#Linear Algebra.\n",
    "import numpy as np\n",
    "\n",
    "#Data preprocessing(read .csv and other format file).\n",
    "import pandas as pd\n",
    "\n",
    "#Data Visualization.\n",
    "import matplotlib.pyplot as plt\n",
    "\n",
    "#Statistic Visualization.\n",
    "import seaborn as sns\n",
    "\n",
    "#Regular expression.\n",
    "import re\n",
    "\n",
    "#Punctuation marks of string.\n",
    "from string import punctuation\n",
    "\n",
    "#Stopwords from corpus.\n",
    "from nltk.corpus import stopwords\n",
    "\n",
    "#Porter stemmer for stemming.\n",
    "from nltk.stem.porter import PorterStemmer\n",
    "\n",
    "#wordnet lemmatizer for lemmatization.\n",
    "from nltk.stem import WordNetLemmatizer\n",
    "\n",
    "#Word embedding(BOW and TFIDF)\n",
    "from sklearn.feature_extraction.text import CountVectorizer,TfidfVectorizer\n",
    "\n",
    "#Data splitting.\n",
    "from sklearn.model_selection import train_test_split\n",
    "\n",
    "#Linear classification model.\n",
    "from sklearn.linear_model import LogisticRegression\n",
    "\n",
    "#Tree classification model.\n",
    "from sklearn.tree import DecisionTreeClassifier\n",
    "\n",
    "#Model statistics.\n",
    "from sklearn.metrics import accuracy_score,confusion_matrix,classification_report\n",
    "\n",
    "#Model saving and loading.\n",
    "import pickle\n",
    "\n",
    "#warning handling.\n",
    "import warnings\n",
    "\n",
    "#ignore the warnings.\n",
    "warnings.filterwarnings(\"ignore\")"
   ]
  },
  {
   "cell_type": "code",
   "execution_count": 2,
   "id": "133d6259-55b1-43a4-b8f5-a0a877b7fea2",
   "metadata": {},
   "outputs": [],
   "source": [
    "#Now here we read the dataset.\n",
    "\n",
    "df=pd.read_csv(r\"C:\\sudhanshu_projects\\project-task-training-course\\Customer_complain_classification\\complaints_processed.csv\")\n"
   ]
  },
  {
   "cell_type": "code",
   "execution_count": 3,
   "id": "0cc1fa9e-b58c-4a26-9a74-283c12d4aead",
   "metadata": {},
   "outputs": [
    {
     "data": {
      "text/html": [
       "<div>\n",
       "<style scoped>\n",
       "    .dataframe tbody tr th:only-of-type {\n",
       "        vertical-align: middle;\n",
       "    }\n",
       "\n",
       "    .dataframe tbody tr th {\n",
       "        vertical-align: top;\n",
       "    }\n",
       "\n",
       "    .dataframe thead th {\n",
       "        text-align: right;\n",
       "    }\n",
       "</style>\n",
       "<table border=\"1\" class=\"dataframe\">\n",
       "  <thead>\n",
       "    <tr style=\"text-align: right;\">\n",
       "      <th></th>\n",
       "      <th>Unnamed: 0</th>\n",
       "      <th>product</th>\n",
       "      <th>narrative</th>\n",
       "    </tr>\n",
       "  </thead>\n",
       "  <tbody>\n",
       "    <tr>\n",
       "      <th>0</th>\n",
       "      <td>0</td>\n",
       "      <td>credit_card</td>\n",
       "      <td>purchase order day shipping amount receive pro...</td>\n",
       "    </tr>\n",
       "    <tr>\n",
       "      <th>1</th>\n",
       "      <td>1</td>\n",
       "      <td>credit_card</td>\n",
       "      <td>forwarded message date tue subject please inve...</td>\n",
       "    </tr>\n",
       "    <tr>\n",
       "      <th>2</th>\n",
       "      <td>2</td>\n",
       "      <td>retail_banking</td>\n",
       "      <td>forwarded message cc sent friday pdt subject f...</td>\n",
       "    </tr>\n",
       "    <tr>\n",
       "      <th>3</th>\n",
       "      <td>3</td>\n",
       "      <td>credit_reporting</td>\n",
       "      <td>payment history missing credit report speciali...</td>\n",
       "    </tr>\n",
       "    <tr>\n",
       "      <th>4</th>\n",
       "      <td>4</td>\n",
       "      <td>credit_reporting</td>\n",
       "      <td>payment history missing credit report made mis...</td>\n",
       "    </tr>\n",
       "  </tbody>\n",
       "</table>\n",
       "</div>"
      ],
      "text/plain": [
       "   Unnamed: 0           product  \\\n",
       "0           0       credit_card   \n",
       "1           1       credit_card   \n",
       "2           2    retail_banking   \n",
       "3           3  credit_reporting   \n",
       "4           4  credit_reporting   \n",
       "\n",
       "                                           narrative  \n",
       "0  purchase order day shipping amount receive pro...  \n",
       "1  forwarded message date tue subject please inve...  \n",
       "2  forwarded message cc sent friday pdt subject f...  \n",
       "3  payment history missing credit report speciali...  \n",
       "4  payment history missing credit report made mis...  "
      ]
     },
     "execution_count": 3,
     "metadata": {},
     "output_type": "execute_result"
    }
   ],
   "source": [
    "#Here we check the top records of the dataset.\n",
    "\n",
    "df.head()"
   ]
  },
  {
   "cell_type": "code",
   "execution_count": 4,
   "id": "a2414730-db3d-4451-aedc-605e6f7e7096",
   "metadata": {},
   "outputs": [],
   "source": [
    "#As there is one unuseful column named as unnamed:0,so we remove it from dataset.\n",
    "\n",
    "df.drop(\"Unnamed: 0\",axis=1,inplace=True)"
   ]
  },
  {
   "cell_type": "code",
   "execution_count": 5,
   "id": "502f0dca-eec0-4fa1-8f7a-52bfb6250792",
   "metadata": {},
   "outputs": [
    {
     "data": {
      "text/html": [
       "<div>\n",
       "<style scoped>\n",
       "    .dataframe tbody tr th:only-of-type {\n",
       "        vertical-align: middle;\n",
       "    }\n",
       "\n",
       "    .dataframe tbody tr th {\n",
       "        vertical-align: top;\n",
       "    }\n",
       "\n",
       "    .dataframe thead th {\n",
       "        text-align: right;\n",
       "    }\n",
       "</style>\n",
       "<table border=\"1\" class=\"dataframe\">\n",
       "  <thead>\n",
       "    <tr style=\"text-align: right;\">\n",
       "      <th></th>\n",
       "      <th>product</th>\n",
       "      <th>narrative</th>\n",
       "    </tr>\n",
       "  </thead>\n",
       "  <tbody>\n",
       "    <tr>\n",
       "      <th>0</th>\n",
       "      <td>credit_card</td>\n",
       "      <td>purchase order day shipping amount receive pro...</td>\n",
       "    </tr>\n",
       "    <tr>\n",
       "      <th>1</th>\n",
       "      <td>credit_card</td>\n",
       "      <td>forwarded message date tue subject please inve...</td>\n",
       "    </tr>\n",
       "    <tr>\n",
       "      <th>2</th>\n",
       "      <td>retail_banking</td>\n",
       "      <td>forwarded message cc sent friday pdt subject f...</td>\n",
       "    </tr>\n",
       "    <tr>\n",
       "      <th>3</th>\n",
       "      <td>credit_reporting</td>\n",
       "      <td>payment history missing credit report speciali...</td>\n",
       "    </tr>\n",
       "    <tr>\n",
       "      <th>4</th>\n",
       "      <td>credit_reporting</td>\n",
       "      <td>payment history missing credit report made mis...</td>\n",
       "    </tr>\n",
       "  </tbody>\n",
       "</table>\n",
       "</div>"
      ],
      "text/plain": [
       "            product                                          narrative\n",
       "0       credit_card  purchase order day shipping amount receive pro...\n",
       "1       credit_card  forwarded message date tue subject please inve...\n",
       "2    retail_banking  forwarded message cc sent friday pdt subject f...\n",
       "3  credit_reporting  payment history missing credit report speciali...\n",
       "4  credit_reporting  payment history missing credit report made mis..."
      ]
     },
     "execution_count": 5,
     "metadata": {},
     "output_type": "execute_result"
    }
   ],
   "source": [
    "#Now we again check the record of dataset.\n",
    "\n",
    "df.head()"
   ]
  },
  {
   "cell_type": "code",
   "execution_count": 6,
   "id": "81259e02-fbf9-4bf9-b58e-e43fc0a66b09",
   "metadata": {},
   "outputs": [
    {
     "data": {
      "text/plain": [
       "(162421, 2)"
      ]
     },
     "execution_count": 6,
     "metadata": {},
     "output_type": "execute_result"
    }
   ],
   "source": [
    "#Now here we check the shape of the dataset.\n",
    "\n",
    "df.shape\n",
    "\n",
    "#The shape of dataset is (162421,2)."
   ]
  },
  {
   "cell_type": "code",
   "execution_count": 7,
   "id": "086c04d6-163b-45f6-8ac4-8fc3e1cee6b1",
   "metadata": {},
   "outputs": [
    {
     "data": {
      "text/plain": [
       "product       0\n",
       "narrative    10\n",
       "dtype: int64"
      ]
     },
     "execution_count": 7,
     "metadata": {},
     "output_type": "execute_result"
    }
   ],
   "source": [
    "#Here we check is there any null value present in the dataset.\n",
    "\n",
    "df.isnull().sum()\n",
    "\n",
    "#As narrative column contain 10 null values,as they are very less in number,so we can remove it."
   ]
  },
  {
   "cell_type": "code",
   "execution_count": 8,
   "id": "9eeec176-20e7-452d-92c5-c3dd43c68548",
   "metadata": {},
   "outputs": [],
   "source": [
    "df=df.dropna()"
   ]
  },
  {
   "cell_type": "code",
   "execution_count": 9,
   "id": "8ac70728-9de6-4971-bbad-906f2616b908",
   "metadata": {},
   "outputs": [
    {
     "data": {
      "text/plain": [
       "product      0\n",
       "narrative    0\n",
       "dtype: int64"
      ]
     },
     "execution_count": 9,
     "metadata": {},
     "output_type": "execute_result"
    }
   ],
   "source": [
    "#Now we again check is there any null value in the dataset.\n",
    "\n",
    "df.isnull().sum()\n",
    "\n",
    "#No there is no null value present in the dataset."
   ]
  },
  {
   "cell_type": "code",
   "execution_count": 10,
   "id": "1688b9ab-837a-47c8-9482-16bcfe6215b6",
   "metadata": {},
   "outputs": [
    {
     "name": "stdout",
     "output_type": "stream",
     "text": [
      "The number of unique values in product column are: ['credit_card' 'retail_banking' 'credit_reporting' 'mortgages_and_loans'\n",
      " 'debt_collection']\n",
      "\n",
      "The value counts of product column are: \n",
      "product\n",
      "credit_reporting       91172\n",
      "debt_collection        23148\n",
      "mortgages_and_loans    18990\n",
      "credit_card            15566\n",
      "retail_banking         13535\n",
      "Name: count, dtype: int64\n",
      "\n"
     ]
    }
   ],
   "source": [
    "#Now here we check the unique values of product column.\n",
    "\n",
    "unique=df[\"product\"].unique()\n",
    "\n",
    "print(f\"The number of unique values in product column are: {unique}\")\n",
    "\n",
    "print()\n",
    "\n",
    "print(\"The value counts of product column are: \")\n",
    "print(df[\"product\"].value_counts())\n",
    "print()\n",
    "\n",
    "\n",
    "\n",
    "# The different classes of product column are:\n",
    "\n",
    "# ['credit_card' 'retail_banking' 'credit_reporting' 'mortgages_and_loans','debt_collection']"
   ]
  },
  {
   "cell_type": "code",
   "execution_count": 11,
   "id": "6c5af6e8-470b-41ec-a5c4-6b96f9c3465d",
   "metadata": {},
   "outputs": [
    {
     "data": {
      "image/png": "[encoded data removed]",
      "text/plain": [
       "<Figure size 800x1200 with 1 Axes>"
      ]
     },
     "metadata": {},
     "output_type": "display_data"
    }
   ],
   "source": [
    "#Now we represent this value count in visualized manner.\n",
    "\n",
    "plt.figure(figsize=(8,12))\n",
    "sns.countplot(data=df,x=\"product\")\n",
    "plt.title(\"countplot of product column\")\n",
    "plt.xlabel(\"classes of product\")\n",
    "plt.ylabel(\"count\")\n",
    "plt.show()"
   ]
  },
  {
   "cell_type": "code",
   "execution_count": 12,
   "id": "f044033a-bf15-4f10-b12f-71ef967d4dcc",
   "metadata": {},
   "outputs": [],
   "source": [
    "#Now here the main task started that means to deal with text.\n",
    "# ['credit_card' 'retail_banking' 'credit_reporting' 'mortgages_and_loans','debt_collection']\n",
    "\n",
    "#Here we give the label to different classes according to this list.\n",
    "\n",
    "df[\"product\"]=df[\"product\"].map({\"credit_card\":0,\"retail_banking\":1,\"credit_reporting\":2,\"mortgages_and_loans\":3,\"debt_collection\":4})\n"
   ]
  },
  {
   "cell_type": "code",
   "execution_count": 13,
   "id": "03a8b73e-80c7-46cd-9287-23c03a2082c2",
   "metadata": {},
   "outputs": [
    {
     "data": {
      "text/html": [
       "<div>\n",
       "<style scoped>\n",
       "    .dataframe tbody tr th:only-of-type {\n",
       "        vertical-align: middle;\n",
       "    }\n",
       "\n",
       "    .dataframe tbody tr th {\n",
       "        vertical-align: top;\n",
       "    }\n",
       "\n",
       "    .dataframe thead th {\n",
       "        text-align: right;\n",
       "    }\n",
       "</style>\n",
       "<table border=\"1\" class=\"dataframe\">\n",
       "  <thead>\n",
       "    <tr style=\"text-align: right;\">\n",
       "      <th></th>\n",
       "      <th>product</th>\n",
       "      <th>narrative</th>\n",
       "    </tr>\n",
       "  </thead>\n",
       "  <tbody>\n",
       "    <tr>\n",
       "      <th>0</th>\n",
       "      <td>0</td>\n",
       "      <td>purchase order day shipping amount receive pro...</td>\n",
       "    </tr>\n",
       "    <tr>\n",
       "      <th>1</th>\n",
       "      <td>0</td>\n",
       "      <td>forwarded message date tue subject please inve...</td>\n",
       "    </tr>\n",
       "    <tr>\n",
       "      <th>2</th>\n",
       "      <td>1</td>\n",
       "      <td>forwarded message cc sent friday pdt subject f...</td>\n",
       "    </tr>\n",
       "    <tr>\n",
       "      <th>3</th>\n",
       "      <td>2</td>\n",
       "      <td>payment history missing credit report speciali...</td>\n",
       "    </tr>\n",
       "    <tr>\n",
       "      <th>4</th>\n",
       "      <td>2</td>\n",
       "      <td>payment history missing credit report made mis...</td>\n",
       "    </tr>\n",
       "  </tbody>\n",
       "</table>\n",
       "</div>"
      ],
      "text/plain": [
       "   product                                          narrative\n",
       "0        0  purchase order day shipping amount receive pro...\n",
       "1        0  forwarded message date tue subject please inve...\n",
       "2        1  forwarded message cc sent friday pdt subject f...\n",
       "3        2  payment history missing credit report speciali...\n",
       "4        2  payment history missing credit report made mis..."
      ]
     },
     "execution_count": 13,
     "metadata": {},
     "output_type": "execute_result"
    }
   ],
   "source": [
    "#Now here we again check the top records of the dataset.\n",
    "\n",
    "df.head()"
   ]
  },
  {
   "cell_type": "code",
   "execution_count": 14,
   "id": "e004f95d-f589-4363-bb6f-360cca900157",
   "metadata": {},
   "outputs": [],
   "source": [
    "#Now we preprocess the narrative column.\n",
    "\n",
    "# #Here firstly create porterstemmer class.\n",
    "\n",
    "# ps=PorterStemmer()\n",
    "\n",
    "# def preprocessing(text):\n",
    "#     text=re.sub('[^a-zA-Z]',' ',text)\n",
    "#     text=text.lower()\n",
    "#     text=text.split()\n",
    "#     text=[ps.stem(word) for word in text if not word in set(stopwords.words(\"english\"))]\n",
    "#     text=\" \".join(text)\n",
    "#     return text"
   ]
  },
  {
   "cell_type": "code",
   "execution_count": 15,
   "id": "00e16a0c-01a3-46b3-901c-adf443dbea0c",
   "metadata": {},
   "outputs": [],
   "source": [
    "#Now we preprocess the narrative column.\n",
    "\n",
    "# df[\"narrative\"]=df[\"narrative\"].apply(preprocessing)"
   ]
  },
  {
   "cell_type": "code",
   "execution_count": 16,
   "id": "45407d22-a21d-44df-b793-f66a9653e926",
   "metadata": {},
   "outputs": [
    {
     "data": {
      "text/plain": [
       "'purchase order day shipping amount receive product week sent followup email exact verbiage paid two day shipping received order company responded im sorry inform due unusually high order volume order shipped several week stock since early due high demand although continuing take order guaranteeing receive order place due time mask order exact shipping date right however guarantee ship soon soon delivers product u getting small shipment shipping first come first served basis appreciate patience fulfill order quickly recommend keeping order lose place line cancel distributor stock moment prefer cancel please note ask via email cancel accordance cancellation policy agreed checkout electronic inventory online requested order canceled refund issued canceled order sent verification order canceled refunded item particulate respirator refunded subtotal shipping tax total usd visa ending refund called disputed amount stated nothing needed submitted address issue recharged item removing called back dispute amount transaction rebillmerchandiserobert ca purchased thu posted wed purchased appears statement transaction rebill ca u followed see status case submitted documentation showing canceled order supposed submit refund called back speak manager case stated dispute ruled favor charge removed card capital one removed purchase bill purchase adjustmentmerchandiserobert j posted fri purchased appears statement purchase adjustment capital one recharges amount transaction rebillmerchandiserobert j purchased thu posted mon purchased appears statement transaction rebill called capital one requested recharge stated visa ruled case pretended remove purchase knew anything case manager ruling favor'"
      ]
     },
     "execution_count": 16,
     "metadata": {},
     "output_type": "execute_result"
    }
   ],
   "source": [
    "#Here we read the narrative data.\n",
    "\n",
    "df[\"narrative\"][0]"
   ]
  },
  {
   "cell_type": "code",
   "execution_count": 17,
   "id": "8d27a134-9b83-4769-bac0-eb501f37b1cb",
   "metadata": {},
   "outputs": [],
   "source": [
    "#Here we decide the independent and dependent feature.\n",
    "\n",
    "x=df[\"narrative\"] #independent feature.\n",
    "\n",
    "y=df[\"product\"] #dependent feature."
   ]
  },
  {
   "cell_type": "code",
   "execution_count": 18,
   "id": "f40e2327-69b5-471f-b416-e458bc2fba9b",
   "metadata": {},
   "outputs": [
    {
     "name": "stdout",
     "output_type": "stream",
     "text": [
      "0    purchase order day shipping amount receive pro...\n",
      "1    forwarded message date tue subject please inve...\n",
      "2    forwarded message cc sent friday pdt subject f...\n",
      "3    payment history missing credit report speciali...\n",
      "4    payment history missing credit report made mis...\n",
      "Name: narrative, dtype: object\n",
      "0    0\n",
      "1    0\n",
      "2    1\n",
      "3    2\n",
      "4    2\n",
      "Name: product, dtype: int64\n"
     ]
    }
   ],
   "source": [
    "#Now here we check the x and y.\n",
    "\n",
    "print(x.head())\n",
    "\n",
    "print(y.head())"
   ]
  },
  {
   "cell_type": "code",
   "execution_count": 19,
   "id": "94ad4f0d-d66e-4c08-86e3-943d03e404a0",
   "metadata": {},
   "outputs": [],
   "source": [
    "#Now here we split the dataset into train and test.\n",
    "\n",
    "x_train,x_test,y_train,y_test=train_test_split(x,y,test_size=0.2,random_state=0)"
   ]
  },
  {
   "cell_type": "code",
   "execution_count": 20,
   "id": "62be37f2-148e-40c1-85ae-e93675ef7d51",
   "metadata": {},
   "outputs": [
    {
     "name": "stdout",
     "output_type": "stream",
     "text": [
      "The shape of x_train is: (129928,).\n",
      "The shape of x_test is: (32483,).\n",
      "The shape of y_train is: (129928,).\n",
      "The shape of y_test is: (32483,).\n"
     ]
    }
   ],
   "source": [
    "#Here we check the shape of x_train/test and y_train/test.\n",
    "\n",
    "print(f\"The shape of x_train is: {x_train.shape}.\")\n",
    "\n",
    "print(f\"The shape of x_test is: {x_test.shape}.\")\n",
    "\n",
    "print(f\"The shape of y_train is: {y_train.shape}.\")\n",
    "\n",
    "print(f\"The shape of y_test is: {y_test.shape}.\")"
   ]
  },
  {
   "cell_type": "code",
   "execution_count": 21,
   "id": "69ea4f53-4213-42f9-89ff-f6e2dc4f4cf2",
   "metadata": {},
   "outputs": [],
   "source": [
    "#Now here we create the object of tfidf vectorizer.\n",
    "\n",
    "tf=TfidfVectorizer()\n",
    "\n",
    "x_train=tf.fit_transform(x_train)\n",
    "\n",
    "x_test=tf.transform(x_test)"
   ]
  },
  {
   "cell_type": "code",
   "execution_count": 22,
   "id": "6dfe71aa-8f9a-4f76-81dc-f01777efcc1e",
   "metadata": {},
   "outputs": [
    {
     "name": "stdout",
     "output_type": "stream",
     "text": [
      "The shape of x_train after embedding is: (129928, 41937).\n",
      "The shape of x_test after embedding is: (32483, 41937).\n"
     ]
    }
   ],
   "source": [
    "#Now here we check the shape of x_train and x_test after vectorization.\n",
    "\n",
    "print(f\"The shape of x_train after embedding is: {x_train.shape}.\")\n",
    "\n",
    "print(f\"The shape of x_test after embedding is: {x_test.shape}.\")"
   ]
  },
  {
   "cell_type": "code",
   "execution_count": 23,
   "id": "ffccee9d-39a5-4111-b36c-2dc731130d4e",
   "metadata": {},
   "outputs": [
    {
     "data": {
      "text/html": [
       "<style>#sk-container-id-1 {color: black;background-color: white;}#sk-container-id-1 pre{padding: 0;}#sk-container-id-1 div.sk-toggleable {background-color: white;}#sk-container-id-1 label.sk-toggleable__label {cursor: pointer;display: block;width: 100%;margin-bottom: 0;padding: 0.3em;box-sizing: border-box;text-align: center;}#sk-container-id-1 label.sk-toggleable__label-arrow:before {content: \"▸\";float: left;margin-right: 0.25em;color: #696969;}#sk-container-id-1 label.sk-toggleable__label-arrow:hover:before {color: black;}#sk-container-id-1 div.sk-estimator:hover label.sk-toggleable__label-arrow:before {color: black;}#sk-container-id-1 div.sk-toggleable__content {max-height: 0;max-width: 0;overflow: hidden;text-align: left;background-color: #f0f8ff;}#sk-container-id-1 div.sk-toggleable__content pre {margin: 0.2em;color: black;border-radius: 0.25em;background-color: #f0f8ff;}#sk-container-id-1 input.sk-toggleable__control:checked~div.sk-toggleable__content {max-height: 200px;max-width: 100%;overflow: auto;}#sk-container-id-1 input.sk-toggleable__control:checked~label.sk-toggleable__label-arrow:before {content: \"▾\";}#sk-container-id-1 div.sk-estimator input.sk-toggleable__control:checked~label.sk-toggleable__label {background-color: #d4ebff;}#sk-container-id-1 div.sk-label input.sk-toggleable__control:checked~label.sk-toggleable__label {background-color: #d4ebff;}#sk-container-id-1 input.sk-hidden--visually {border: 0;clip: rect(1px 1px 1px 1px);clip: rect(1px, 1px, 1px, 1px);height: 1px;margin: -1px;overflow: hidden;padding: 0;position: absolute;width: 1px;}#sk-container-id-1 div.sk-estimator {font-family: monospace;background-color: #f0f8ff;border: 1px dotted black;border-radius: 0.25em;box-sizing: border-box;margin-bottom: 0.5em;}#sk-container-id-1 div.sk-estimator:hover {background-color: #d4ebff;}#sk-container-id-1 div.sk-parallel-item::after {content: \"\";width: 100%;border-bottom: 1px solid gray;flex-grow: 1;}#sk-container-id-1 div.sk-label:hover label.sk-toggleable__label {background-color: #d4ebff;}#sk-container-id-1 div.sk-serial::before {content: \"\";position: absolute;border-left: 1px solid gray;box-sizing: border-box;top: 0;bottom: 0;left: 50%;z-index: 0;}#sk-container-id-1 div.sk-serial {display: flex;flex-direction: column;align-items: center;background-color: white;padding-right: 0.2em;padding-left: 0.2em;position: relative;}#sk-container-id-1 div.sk-item {position: relative;z-index: 1;}#sk-container-id-1 div.sk-parallel {display: flex;align-items: stretch;justify-content: center;background-color: white;position: relative;}#sk-container-id-1 div.sk-item::before, #sk-container-id-1 div.sk-parallel-item::before {content: \"\";position: absolute;border-left: 1px solid gray;box-sizing: border-box;top: 0;bottom: 0;left: 50%;z-index: -1;}#sk-container-id-1 div.sk-parallel-item {display: flex;flex-direction: column;z-index: 1;position: relative;background-color: white;}#sk-container-id-1 div.sk-parallel-item:first-child::after {align-self: flex-end;width: 50%;}#sk-container-id-1 div.sk-parallel-item:last-child::after {align-self: flex-start;width: 50%;}#sk-container-id-1 div.sk-parallel-item:only-child::after {width: 0;}#sk-container-id-1 div.sk-dashed-wrapped {border: 1px dashed gray;margin: 0 0.4em 0.5em 0.4em;box-sizing: border-box;padding-bottom: 0.4em;background-color: white;}#sk-container-id-1 div.sk-label label {font-family: monospace;font-weight: bold;display: inline-block;line-height: 1.2em;}#sk-container-id-1 div.sk-label-container {text-align: center;}#sk-container-id-1 div.sk-container {/* jupyter's `normalize.less` sets `[hidden] { display: none; }` but bootstrap.min.css set `[hidden] { display: none !important; }` so we also need the `!important` here to be able to override the default hidden behavior on the sphinx rendered scikit-learn.org. See: https://github.com/scikit-learn/scikit-learn/issues/21755 */display: inline-block !important;position: relative;}#sk-container-id-1 div.sk-text-repr-fallback {display: none;}</style><div id=\"sk-container-id-1\" class=\"sk-top-container\"><div class=\"sk-text-repr-fallback\"><pre>LogisticRegression()</pre><b>In a Jupyter environment, please rerun this cell to show the HTML representation or trust the notebook. <br />On GitHub, the HTML representation is unable to render, please try loading this page with nbviewer.org.</b></div><div class=\"sk-container\" hidden><div class=\"sk-item\"><div class=\"sk-estimator sk-toggleable\"><input class=\"sk-toggleable__control sk-hidden--visually\" id=\"sk-estimator-id-1\" type=\"checkbox\" checked><label for=\"sk-estimator-id-1\" class=\"sk-toggleable__label sk-toggleable__label-arrow\">LogisticRegression</label><div class=\"sk-toggleable__content\"><pre>LogisticRegression()</pre></div></div></div></div></div>"
      ],
      "text/plain": [
       "LogisticRegression()"
      ]
     },
     "execution_count": 23,
     "metadata": {},
     "output_type": "execute_result"
    }
   ],
   "source": [
    "#Now here we apply linear classification model.\n",
    "\n",
    "lor=LogisticRegression()\n",
    "\n",
    "lor.fit(x_train,y_train)"
   ]
  },
  {
   "cell_type": "code",
   "execution_count": 24,
   "id": "2c1033a0-6f64-4807-b946-45eb61307cda",
   "metadata": {},
   "outputs": [
    {
     "name": "stdout",
     "output_type": "stream",
     "text": [
      "The train accuracy of lor model is: 0.8932639615787206.\n",
      "The test accuracy of lor model is: 0.8738724871471231.\n"
     ]
    }
   ],
   "source": [
    "#Here we find the train and test accuracy.\n",
    "\n",
    "y_pred_train=lor.predict(x_train)\n",
    "\n",
    "y_pred_test=lor.predict(x_test)\n",
    "\n",
    "train_ac=accuracy_score(y_train,y_pred_train)\n",
    "\n",
    "test_ac=accuracy_score(y_test,y_pred_test)\n",
    "\n",
    "print(f\"The train accuracy of lor model is: {train_ac}.\")\n",
    "\n",
    "print(f\"The test accuracy of lor model is: {test_ac}.\")"
   ]
  },
  {
   "cell_type": "markdown",
   "id": "3b2022f1-585a-4c54-a522-4487f382c867",
   "metadata": {},
   "source": [
    "#### ---------------------------------------------------------------------------------------------\n",
    "### Conclusion of lor model.\n",
    "\n",
    "##### The train accuracy is 89.32% and test accuracy is 87.38%.\n",
    "\n",
    "#### -----------------------------------------------------------------------------------------------"
   ]
  },
  {
   "cell_type": "code",
   "execution_count": 25,
   "id": "d051c5c4-510b-4b34-acf0-53f34bf21197",
   "metadata": {},
   "outputs": [
    {
     "data": {
      "text/html": [
       "<style>#sk-container-id-2 {color: black;background-color: white;}#sk-container-id-2 pre{padding: 0;}#sk-container-id-2 div.sk-toggleable {background-color: white;}#sk-container-id-2 label.sk-toggleable__label {cursor: pointer;display: block;width: 100%;margin-bottom: 0;padding: 0.3em;box-sizing: border-box;text-align: center;}#sk-container-id-2 label.sk-toggleable__label-arrow:before {content: \"▸\";float: left;margin-right: 0.25em;color: #696969;}#sk-container-id-2 label.sk-toggleable__label-arrow:hover:before {color: black;}#sk-container-id-2 div.sk-estimator:hover label.sk-toggleable__label-arrow:before {color: black;}#sk-container-id-2 div.sk-toggleable__content {max-height: 0;max-width: 0;overflow: hidden;text-align: left;background-color: #f0f8ff;}#sk-container-id-2 div.sk-toggleable__content pre {margin: 0.2em;color: black;border-radius: 0.25em;background-color: #f0f8ff;}#sk-container-id-2 input.sk-toggleable__control:checked~div.sk-toggleable__content {max-height: 200px;max-width: 100%;overflow: auto;}#sk-container-id-2 input.sk-toggleable__control:checked~label.sk-toggleable__label-arrow:before {content: \"▾\";}#sk-container-id-2 div.sk-estimator input.sk-toggleable__control:checked~label.sk-toggleable__label {background-color: #d4ebff;}#sk-container-id-2 div.sk-label input.sk-toggleable__control:checked~label.sk-toggleable__label {background-color: #d4ebff;}#sk-container-id-2 input.sk-hidden--visually {border: 0;clip: rect(1px 1px 1px 1px);clip: rect(1px, 1px, 1px, 1px);height: 1px;margin: -1px;overflow: hidden;padding: 0;position: absolute;width: 1px;}#sk-container-id-2 div.sk-estimator {font-family: monospace;background-color: #f0f8ff;border: 1px dotted black;border-radius: 0.25em;box-sizing: border-box;margin-bottom: 0.5em;}#sk-container-id-2 div.sk-estimator:hover {background-color: #d4ebff;}#sk-container-id-2 div.sk-parallel-item::after {content: \"\";width: 100%;border-bottom: 1px solid gray;flex-grow: 1;}#sk-container-id-2 div.sk-label:hover label.sk-toggleable__label {background-color: #d4ebff;}#sk-container-id-2 div.sk-serial::before {content: \"\";position: absolute;border-left: 1px solid gray;box-sizing: border-box;top: 0;bottom: 0;left: 50%;z-index: 0;}#sk-container-id-2 div.sk-serial {display: flex;flex-direction: column;align-items: center;background-color: white;padding-right: 0.2em;padding-left: 0.2em;position: relative;}#sk-container-id-2 div.sk-item {position: relative;z-index: 1;}#sk-container-id-2 div.sk-parallel {display: flex;align-items: stretch;justify-content: center;background-color: white;position: relative;}#sk-container-id-2 div.sk-item::before, #sk-container-id-2 div.sk-parallel-item::before {content: \"\";position: absolute;border-left: 1px solid gray;box-sizing: border-box;top: 0;bottom: 0;left: 50%;z-index: -1;}#sk-container-id-2 div.sk-parallel-item {display: flex;flex-direction: column;z-index: 1;position: relative;background-color: white;}#sk-container-id-2 div.sk-parallel-item:first-child::after {align-self: flex-end;width: 50%;}#sk-container-id-2 div.sk-parallel-item:last-child::after {align-self: flex-start;width: 50%;}#sk-container-id-2 div.sk-parallel-item:only-child::after {width: 0;}#sk-container-id-2 div.sk-dashed-wrapped {border: 1px dashed gray;margin: 0 0.4em 0.5em 0.4em;box-sizing: border-box;padding-bottom: 0.4em;background-color: white;}#sk-container-id-2 div.sk-label label {font-family: monospace;font-weight: bold;display: inline-block;line-height: 1.2em;}#sk-container-id-2 div.sk-label-container {text-align: center;}#sk-container-id-2 div.sk-container {/* jupyter's `normalize.less` sets `[hidden] { display: none; }` but bootstrap.min.css set `[hidden] { display: none !important; }` so we also need the `!important` here to be able to override the default hidden behavior on the sphinx rendered scikit-learn.org. See: https://github.com/scikit-learn/scikit-learn/issues/21755 */display: inline-block !important;position: relative;}#sk-container-id-2 div.sk-text-repr-fallback {display: none;}</style><div id=\"sk-container-id-2\" class=\"sk-top-container\"><div class=\"sk-text-repr-fallback\"><pre>DecisionTreeClassifier()</pre><b>In a Jupyter environment, please rerun this cell to show the HTML representation or trust the notebook. <br />On GitHub, the HTML representation is unable to render, please try loading this page with nbviewer.org.</b></div><div class=\"sk-container\" hidden><div class=\"sk-item\"><div class=\"sk-estimator sk-toggleable\"><input class=\"sk-toggleable__control sk-hidden--visually\" id=\"sk-estimator-id-2\" type=\"checkbox\" checked><label for=\"sk-estimator-id-2\" class=\"sk-toggleable__label sk-toggleable__label-arrow\">DecisionTreeClassifier</label><div class=\"sk-toggleable__content\"><pre>DecisionTreeClassifier()</pre></div></div></div></div></div>"
      ],
      "text/plain": [
       "DecisionTreeClassifier()"
      ]
     },
     "execution_count": 25,
     "metadata": {},
     "output_type": "execute_result"
    }
   ],
   "source": [
    "#Now we apply the decision tree classifier.\n",
    "\n",
    "dtc=DecisionTreeClassifier()\n",
    "\n",
    "dtc.fit(x_train,y_train)"
   ]
  },
  {
   "cell_type": "code",
   "execution_count": 26,
   "id": "daee4689-c7eb-45fe-8e3d-de9ae4f43d0d",
   "metadata": {},
   "outputs": [
    {
     "name": "stdout",
     "output_type": "stream",
     "text": [
      "The train accuracy of dtc model is: 0.9957591897050674.\n",
      "The test accuracy of dtc model is: 0.8189514515284918.\n"
     ]
    }
   ],
   "source": [
    "#Here we find the train and test accuracy.\n",
    "\n",
    "y_pred_train_dtc=dtc.predict(x_train)\n",
    "\n",
    "y_pred_test_dtc=dtc.predict(x_test)\n",
    "\n",
    "acc_train_dtc = accuracy_score(y_train,y_pred_train_dtc)\n",
    "\n",
    "acc_test_dtc = accuracy_score(y_test,y_pred_test_dtc)\n",
    "\n",
    "print(f\"The train accuracy of dtc model is: {acc_train_dtc}.\")\n",
    "\n",
    "print(f\"The test accuracy of dtc model is: {acc_test_dtc}.\")"
   ]
  },
  {
   "cell_type": "code",
   "execution_count": 27,
   "id": "713f39b1-ee14-4f3b-a1d0-7a530bf8d629",
   "metadata": {},
   "outputs": [],
   "source": [
    "#As the difference between the bias and variance is very high,so we not take this model. "
   ]
  },
  {
   "cell_type": "code",
   "execution_count": 28,
   "id": "a0252d45-6991-410a-8709-aa87b884d757",
   "metadata": {},
   "outputs": [],
   "source": [
    "#Now here we save the model and vectorizer.\n",
    "\n",
    "pickle.dump(tf,open(r\"C:\\sudhanshu_projects\\project-task-training-course\\Customer_complain_classification\\vectorizer.pkl\",\"wb\"))\n",
    "\n",
    "pickle.dump(lor,open(r\"C:\\sudhanshu_projects\\project-task-training-course\\Customer_complain_classification\\customer_complain_classification.pkl\",\"wb\"))"
   ]
  },
  {
   "cell_type": "code",
   "execution_count": 29,
   "id": "8ad4c457-f41d-43dd-8a89-0f7dd648fe5d",
   "metadata": {},
   "outputs": [],
   "source": [
    "#Here we load the saved model and vectorizer.\n",
    "\n",
    "vectorizer = pickle.load(open(r\"C:\\sudhanshu_projects\\project-task-training-course\\Customer_complain_classification\\vectorizer.pkl\",\"rb\"))\n",
    "\n",
    "model = pickle.load(open(r\"C:\\sudhanshu_projects\\project-task-training-course\\Customer_complain_classification\\customer_complain_classification.pkl\",\"rb\"))"
   ]
  },
  {
   "cell_type": "code",
   "execution_count": 42,
   "id": "8d1fead0-cde2-409b-98ba-49f7ba6a503d",
   "metadata": {},
   "outputs": [
    {
     "name": "stdin",
     "output_type": "stream",
     "text": [
      "enter the narration:  current loan provident funding applied refinance provident funding variable interest rate went loan applied refinance downpayment reduce depth also monthly payment locked interest rate day current payment going approximately provided income debt information provident funding provident funding play game interest rate arm went provided every information suspended loan application able reach mortgage broker always get voicemail responded email underwriter approving due ratio\n"
     ]
    },
    {
     "name": "stdout",
     "output_type": "stream",
     "text": [
      "\n",
      "\n",
      "\n",
      "mortgages_and_loans\n"
     ]
    }
   ],
   "source": [
    "#Now here we test the model.\n",
    "\n",
    "# ['credit_card' 'retail_banking' 'credit_reporting' 'mortgages_and_loans','debt_collection']\n",
    "\n",
    "input_df=input(\"enter the narration: \")\n",
    "\n",
    "input_df=tf.transform([input_df])\n",
    "\n",
    "prediction=model.predict(input_df)[0]\n",
    "\n",
    "print(\"\\n\\n\")\n",
    "\n",
    "if prediction==0:\n",
    "    print(\"Credit_card Problem\")\n",
    "elif prediction==1:\n",
    "    print(\"retail_banking\")\n",
    "elif prediction==2:\n",
    "    print(\"credit_reporting\")\n",
    "elif prediction==3:\n",
    "    print(\"mortgages_and_loans\")\n",
    "else:\n",
    "    print(\"debt_collection\")"
   ]
  },
  {
   "cell_type": "code",
   "execution_count": 39,
   "id": "c42dc802-8ff3-42c6-8347-8ec8be7278fe",
   "metadata": {},
   "outputs": [
    {
     "data": {
      "text/plain": [
       "array([[3,\n",
       "        'current loan provident funding applied refinance provident funding variable interest rate went loan applied refinance downpayment reduce depth also monthly payment locked interest rate day current payment going approximately provided income debt information provident funding provident funding play game interest rate arm went provided every information suspended loan application able reach mortgage broker always get voicemail responded email underwriter approving due ratio'],\n",
       "       [3,\n",
       "        'current loan got deferment paid back credit history yet lost job due covid therefore asking original bank ally lower rate allow lower payment every bank offering applied full page document today still reply called time portal representative tell use work call get told need one piece documentation time refuse allow speak even email underwriter yet applying original mortgage one dedicated rep could communicate rep told yes document would word within day waited till called told go website told work read underwriter note documentation old would start'],\n",
       "       [3,\n",
       "        'closed mortgage dovenmuhle mortgage paid full significant remaining balance escrow account waited refund check never arrived called dovenmuhle said sure check sent promised send waiting customary week processing business day delivery waited called back check never sent said could update new address phone email signed document asking updated mailing address asked wait day call back check asked overnighted agreed called initially said never received email resent two different email address eventually said found sure original attempt asked overnighted rep said needed manager approval meeting said call back manager called back left message saying check would processed within week mailed called back told way overnight asked manager put hold minute called back go entire thing asking manager put hold minute went automated survey disconnected waaaayyyy past day window refund escrow fund entire process unacceptable illegally hold money like']],\n",
       "      dtype=object)"
      ]
     },
     "execution_count": 39,
     "metadata": {},
     "output_type": "execute_result"
    }
   ],
   "source": [
    "df.iloc[15:18,:].values\n",
    "\n",
    "# df.columns"
   ]
  },
  {
   "cell_type": "code",
   "execution_count": null,
   "id": "838b5500-bdbc-4644-9ffb-2b9caf78cc57",
   "metadata": {},
   "outputs": [],
   "source": []
  }
 ],
 "metadata": {
  "kernelspec": {
   "display_name": "Python 3 (ipykernel)",
   "language": "python",
   "name": "python3"
  },
  "language_info": {
   "codemirror_mode": {
    "name": "ipython",
    "version": 3
   },
   "file_extension": ".py",
   "mimetype": "text/x-python",
   "name": "python",
   "nbconvert_exporter": "python",
   "pygments_lexer": "ipython3",
   "version": "3.11.4"
  }
 },
 "nbformat": 4,
 "nbformat_minor": 5
}
